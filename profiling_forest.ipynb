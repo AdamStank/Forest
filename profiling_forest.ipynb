{
 "cells": [
  {
   "cell_type": "markdown",
   "metadata": {},
   "source": [
    "##### import necessary files"
   ]
  },
  {
   "cell_type": "code",
   "execution_count": 1,
   "metadata": {
    "collapsed": true
   },
   "outputs": [],
   "source": [
    "%%capture\n",
    "%load_ext line_profiler\n",
    "%load_ext memory_profiler"
   ]
  },
  {
   "cell_type": "code",
   "execution_count": 2,
   "metadata": {},
   "outputs": [
    {
     "name": "stdout",
     "output_type": "stream",
     "text": [
      "Default engine <forest.engines.Engine.MultiprocessingEngine object at 0x00000261C72F7A90>\n"
     ]
    }
   ],
   "source": [
    "# %load runforesttestfull.py\n",
    "from forest import *\n",
    "from forest.bobs.Bobs import *\n",
    "\n",
    "import forest.engines.Config\n",
    "\n",
    "# Debugger line\n",
    "#import pdb; pdb.set_trace()\n",
    "\n",
    "def testit_randomstuff():\n",
    "    # Make an empty Bob\n",
    "    b = Bob()\n",
    "    print(b)\n",
    "\n",
    "    # Make an empty raster dataset\n",
    "    r = Raster(0,0,20,20,10,10,2)\n",
    "    print(r)\n",
    "\n",
    "def zonalaverage_oldschool(zonefilename, datafilename):\n",
    "    \n",
    "    # Read a rasterized Vector dataset as zones\n",
    "    # FIXME: For now it does not read the file    \n",
    "    vector = ShapefileNewRead(zonefilename)\n",
    "    print(\"vector=\",vector)\n",
    "    print(\"data len=\",len(vector.data))\n",
    "\n",
    "    # Read a raster dataset as data\n",
    "    # FIXME: For now it does not read the file    \n",
    "    raster = GeotiffRead(filename = datafilename)    \n",
    "    print(\"raster=\",raster)\n",
    "    print(\"raster data len\",len(raster.data))\n",
    "\n",
    "    # Calculate partial sum of vector and raster\n",
    "    ps = PartialSumRasterize(vector, raster)\n",
    "    print(\"PartialSum=\",ps)\n",
    "    print(ps.data)    \n",
    "\n",
    "    zonalaverage = Average(ps)\n",
    "\n",
    "    return zonalaverage\n",
    "    \n",
    "def testit_oldschool(zonefilename, datafilename):\n",
    "\n",
    "    print(\"starting old school\")\n",
    "\n",
    "    zonalaverage = zonalaverage_oldschool(zonefilename, datafilename)\n",
    "    \n",
    "    print(\"ZonalAverage=\",zonalaverage)\n",
    "    \n",
    "    for zone in sorted(zonalaverage.data):\n",
    "        print(zone,\"=\",zonalaverage.data[zone])\n",
    "    \n",
    "    print(\"finished old school\")\n",
    "\n",
    "    \n",
    "def zonalaverage_forest(zonefilename, datafilename):\n",
    "\n",
    "    Config.inputs = []\n",
    "    output = run_primitive(ShapefileNewRead.reg(zonefilename) == GeotiffRead.reg(datafilename) < PartialSumRasterize > Average)\n",
    "\n",
    "    return output\n",
    "    \n",
    "    \n",
    "def testit_forest(zonefilename, datafilename):\n",
    "    print(\"starting forest\")\n",
    "    \n",
    "    zonalaverage = zonalaverage_forest(zonefilename, datafilename)\n",
    "    \n",
    "    print(\"ZonalAverage=\",zonalaverage)\n",
    "    \n",
    "    for zone in sorted(zonalaverage.data):\n",
    "        print(zone,\"=\",zonalaverage.data[zone])\n",
    "    \n",
    "    print(\"finished forest\")\n",
    "    \n",
    "if __name__ == '__main__':\n",
    "    \n",
    "    zonefilename = \"examples/data/states.shp\"\n",
    "    datafilename = \"examples/data/glc2000.tif\"\n"
   ]
  },
  {
   "cell_type": "code",
   "execution_count": null,
   "metadata": {
    "scrolled": true
   },
   "outputs": [
    {
     "name": "stdout",
     "output_type": "stream",
     "text": [
      "starting forest\n",
      "ShapefileNewRead register\n",
      "GeotiffRead register\n",
      "ShapefileNewRead == (Sequence) GeotiffRead\n",
      "Running ShapefileNewRead\n",
      "Boundingbox (-124.763068, 24.523096, -66.949895, 49.384358)\n",
      "GeotiffRead < (Split) PartialSumRasterize\n",
      "Running GeotiffRead\n",
      "PartialSumRasterize > (Merge) Average\n",
      "Running PartialSumRasterize\n"
     ]
    }
   ],
   "source": [
    "%lprun -f PartialSumRasterize.__call__ testit_forest(zonefilename,datafilename)"
   ]
  }
 ],
 "metadata": {
  "kernelspec": {
   "display_name": "Python 3",
   "language": "python",
   "name": "python3"
  },
  "language_info": {
   "codemirror_mode": {
    "name": "ipython",
    "version": 3
   },
   "file_extension": ".py",
   "mimetype": "text/x-python",
   "name": "python",
   "nbconvert_exporter": "python",
   "pygments_lexer": "ipython3",
   "version": "3.6.1"
  }
 },
 "nbformat": 4,
 "nbformat_minor": 2
}

{
 "cells": [
  {
   "cell_type": "markdown",
   "metadata": {},
   "source": [
    "##### import necessary files"
   ]
  },
  {
   "cell_type": "code",
   "execution_count": 1,
   "metadata": {
    "collapsed": true
   },
   "outputs": [],
   "source": [
    "%%capture # used to hide output\n",
    "from runforesttest import *\n",
    "%load_ext line_profiler\n",
    "%load_ext memory_profiler\n",
    "zonefilename = \"examples/data/vector.shp\"\n",
    "datafilename = \"examples/data/raster.tif\""
   ]
  },
  {
   "cell_type": "markdown",
   "metadata": {},
   "source": [
    "##### testit_forest"
   ]
  },
  {
   "cell_type": "code",
   "execution_count": 12,
   "metadata": {
    "collapsed": true
   },
   "outputs": [
    {
     "name": "stdout",
     "output_type": "stream",
     "text": [
      "starting forest\n",
      "VectorZoneTest register\n",
      "RasterRead register\n",
      "VectorZoneTest == (Sequence) RasterRead\n",
      "RasterRead < (Split) PartialSum\n",
      "PartialSum > (Merge) Average\n",
      "ZonalAverage= Bob (10.000000,10.000000) [0.000000,0.000000]\n",
      "0.0 = 4.5\n",
      "1.0 = 5.5\n",
      "2.0 = 6.5\n",
      "3.0 = 7.5\n",
      "4.0 = 8.5\n",
      "5.0 = 9.5\n",
      "6.0 = 10.5\n",
      "7.0 = 11.5\n",
      "8.0 = 12.5\n",
      "9.0 = 13.5\n",
      "finished forest\n"
     ]
    }
   ],
   "source": [
    "%lprun -f testit_forest testit_forest(zonefilename,datafilename)"
   ]
  },
  {
   "cell_type": "markdown",
   "metadata": {},
   "source": [
    "##### zonalaverage_forest"
   ]
  },
  {
   "cell_type": "code",
   "execution_count": 13,
   "metadata": {
    "collapsed": true
   },
   "outputs": [
    {
     "name": "stdout",
     "output_type": "stream",
     "text": [
      "VectorZoneTest register\n",
      "RasterRead register\n",
      "VectorZoneTest == (Sequence) RasterRead\n",
      "RasterRead < (Split) PartialSum\n",
      "PartialSum > (Merge) Average\n"
     ]
    }
   ],
   "source": [
    "%lprun -f zonalaverage_forest zonalaverage_forest(zonefilename, datafilename)"
   ]
  },
  {
   "cell_type": "markdown",
   "metadata": {},
   "source": [
    "##### run_primitive"
   ]
  },
  {
   "cell_type": "code",
   "execution_count": 13,
   "metadata": {
    "scrolled": true
   },
   "outputs": [
    {
     "name": "stdout",
     "output_type": "stream",
     "text": [
      "VectorZoneTest register\n",
      "RasterRead register\n",
      "VectorZoneTest == (Sequence) RasterRead\n",
      "RasterRead < (Split) PartialSum\n",
      "PartialSum > (Merge) Average\n"
     ]
    }
   ],
   "source": [
    "Config.inputs = []\n",
    "%lprun -f run_primitive run_primitive( VectorZoneTest.reg(zonefilename) == RasterDataTest.reg(datafilename) < PartialSum > Average )"
   ]
  },
  {
   "cell_type": "markdown",
   "metadata": {},
   "source": [
    "##### PartialSumRasterizePrim.\\_\\_call\\_\\_()"
   ]
  }
 ],
 "metadata": {
  "kernelspec": {
   "display_name": "Python 3",
   "language": "python",
   "name": "python3"
  },
  "language_info": {
   "codemirror_mode": {
    "name": "ipython",
    "version": 3
   },
   "file_extension": ".py",
   "mimetype": "text/x-python",
   "name": "python",
   "nbconvert_exporter": "python",
   "pygments_lexer": "ipython3",
   "version": "3.6.1"
  }
 },
 "nbformat": 4,
 "nbformat_minor": 2
}
